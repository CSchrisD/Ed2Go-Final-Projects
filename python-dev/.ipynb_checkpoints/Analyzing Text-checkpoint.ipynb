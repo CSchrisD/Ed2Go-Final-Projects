{
 "cells": [
  {
   "cell_type": "markdown",
   "metadata": {},
   "source": [
    "# Analyzing Text"
   ]
  },
  {
   "cell_type": "markdown",
   "metadata": {},
   "source": [
    "Write the TextAnalyzer class in the cell below. We have already imported some libraries that should be useful to you."
   ]
  },
  {
   "cell_type": "code",
   "execution_count": 2,
   "metadata": {
    "collapsed": false,
    "scrolled": true
   },
   "outputs": [],
   "source": [
    "import requests, re\n",
    "from bs4 import BeautifulSoup\n",
    "from collections import Counter\n",
    "import statistics as stats\n",
    "import string\n",
    "import urllib.request\n",
    "import matplotlib.pyplot as plt; plt.rcdefaults()\n",
    "import numpy as np\n",
    "import matplotlib.pyplot as plt\n",
    "import matplotlib.ticker as ticker\n",
    "\n",
    "#create your class here\n",
    "class TextAnalyzer:\n",
    "    #initialize a text analyzer to manipulate with the following methods/properties\n",
    "    #based on where the information is held (url, path, text)\n",
    "    def __init__(self, src, src_type=\"\"):\n",
    "        if src[0:4] == 'http':\n",
    "            self._src_type = 'url'\n",
    "            req = requests.get(src)\n",
    "            soup = BeautifulSoup(req.content, \"html.parser\")\n",
    "            self._content = str(soup)\n",
    "        elif src[len(src)-4:len(src)] == '.txt':\n",
    "            self._src_type = 'path'\n",
    "            file = open(src, \"r\")\n",
    "            self._content = str(file.read())\n",
    "            file.close()\n",
    "        else :\n",
    "            self._src_type = 'text'\n",
    "            self._content = src\n",
    "        self._orig_content = src\n",
    "            \n",
    "    #methods\n",
    "    \n",
    "    #get the contents of a specific tag within a url path\n",
    "    #throws exception if tag/tagID does not exist\n",
    "    def set_content_to_tag(self, tag, tag_id=None):\n",
    "        req = requests.get(self._orig_content)\n",
    "        soup = BeautifulSoup(req.content, \"html.parser\")\n",
    "        try :\n",
    "            self._content = (soup.find(tag, {\"id\": tag_id})).getText()\n",
    "        except AttributeError :\n",
    "            print('Tag or Tag ID could not be found')\n",
    "            \n",
    "    #resets the ._contents object to its original value at creation\n",
    "    def reset_content(self):\n",
    "        if self._src_type == 'url' :\n",
    "            req = requests.get(self._orig_content)\n",
    "            soup = BeautifulSoup(req.content, \"html.parser\")\n",
    "            self._content = str(soup)\n",
    "        elif self._src_type == 'path' :\n",
    "            req = requests.get(self._orig_content)\n",
    "            soup = BeautifulSoup(req.content, \"html.parser\")\n",
    "            self._content = str(soup)\n",
    "        else :\n",
    "            self._content = self._orig_content\n",
    "    \n",
    "    #returns a list of words within ._contents with spaces and special characters stripped\n",
    "    #all words in list will be capital if casesensitive is False, original otherwise\n",
    "    def _words(self, casesensitive=False):\n",
    "        strings_list = []\n",
    "        curr_string = ''\n",
    "        reg_ex = '[_\\w\\d]+'\n",
    "        i = 0\n",
    "        (self._content).strip(string.whitespace + string.punctuation)\n",
    "        if not casesensitive :\n",
    "            for l in self._content :\n",
    "                if l == ' ' or l == '\\n' or i == len(self._content)-1:\n",
    "                    curr_string = curr_string.replace(\"'\", \"\")\n",
    "                    strings_list.append((curr_string.replace(reg_ex, '').strip(string.whitespace + string.punctuation)))\n",
    "                    curr_string = ''\n",
    "                else :\n",
    "                    curr_string += l.upper()\n",
    "                i = i + 1\n",
    "        else :\n",
    "            for j in self._content :\n",
    "                if j == ' ' or j == '\\n' or i == len(self._content)-1:\n",
    "                    curr_string = curr_string.replace(\"'\", \"\")\n",
    "                    strings_list.append((curr_string.replace(reg_ex, '').strip(string.whitespace + string.punctuation)))\n",
    "                    curr_string = ''\n",
    "                else :\n",
    "                    curr_string += j\n",
    "                i = i + 1\n",
    "        return strings_list\n",
    "     \n",
    "    #return a list of tuples where the key is the word, and the value is the number of times it appears\n",
    "    #within the count, and the word must be in between the min and max length\n",
    "    def common_words(self, minlen=1, maxlen=100, count=10, casesensitive=False):\n",
    "        content_words = self._words(casesensitive)\n",
    "        words = []\n",
    "        for i in content_words :\n",
    "            curr_size = len(i)\n",
    "            if (minlen <= curr_size) and (curr_size <= maxlen) :\n",
    "                if len(words) > 0 :\n",
    "                    if i in dict(words).keys():\n",
    "                        curr_val = dict(words).get(i)\n",
    "                        index = words.index((i, curr_val))\n",
    "                        words[index] = ((i, curr_val + 1))\n",
    "                    else :\n",
    "                        words.append((i,1))\n",
    "                else :\n",
    "                    words.append((i,1))\n",
    "        words.sort(key=lambda x: x[1], reverse=True)\n",
    "        return words[0:count]\n",
    "            \n",
    "    #return a list of tuples where the key is the character, and the value is the number of times it appears\n",
    "    #the letters may be casesensitive or the characters may only contain letters\n",
    "    def char_distribution(self, casesensitive=False, letters_only=False):\n",
    "        content_words = self._words(casesensitive)\n",
    "        chars = []\n",
    "        for i in content_words :\n",
    "            for l in i :\n",
    "                if letters_only and (l.isalpha()):\n",
    "                    if len(chars) > 0 :\n",
    "                        if l in dict(chars).keys():\n",
    "                            curr_val = dict(chars).get(l)\n",
    "                            index = chars.index((l, curr_val))\n",
    "                            chars[index] = (l, curr_val + 1)\n",
    "                        else :\n",
    "                            chars.append((l,1))\n",
    "                    else :\n",
    "                        chars.append((l,1))\n",
    "                else :\n",
    "                    if len(chars) > 0 :\n",
    "                        if l in dict(chars).keys():\n",
    "                            curr_val = dict(chars).get(l)\n",
    "                            index = chars.index((l, curr_val))\n",
    "                            chars[index] = (l, curr_val + 1)\n",
    "                        else :\n",
    "                            chars.append((l,1))\n",
    "                    else :\n",
    "                        chars.append((l,1))\n",
    "        chars.sort(key=lambda x: x[1], reverse=True)\n",
    "        return chars\n",
    "        \n",
    "    #display a graph based on the common words, x-axis = words, y-axis = number of times is appears\n",
    "    #the bar graph is distributed in descending order\n",
    "    def plot_common_words(self, minlen=1, maxlen=100, count=10, casesensitive=False):\n",
    "        words = self.common_words(minlen, maxlen, count, casesensitive)\n",
    "        keys , ys = zip(*words)\n",
    "        xs = np.arange(len(keys))\n",
    "        plt.figure(figsize=(len(keys),len(ys)))\n",
    "        plt.bar(xs, ys, 0.5, align = \"center\", color = \"blue\")\n",
    "        plt.xticks(xs, keys, rotation = 90)\n",
    "        ax = plt.axes()\n",
    "        ax.xaxis.set_minor_locator(ticker.MultipleLocator(1))\n",
    "        plt.title('Common Words')\n",
    "        plt.show()\n",
    "        \n",
    "    #display a graph based on the common words, x-axis = characters, y-axis = number of times is appears\n",
    "    #the bar graph is distributed in descending order\n",
    "    def plot_char_distribution(self, casesensitive=False, letters_only=False):\n",
    "        letters = self.char_distribution(casesensitive, letters_only)\n",
    "        keys , ys = zip(*letters)\n",
    "        xs = np.arange(len(keys))\n",
    "        plt.figure(figsize=(len(keys),len(ys)))\n",
    "        plt.bar(xs, ys, 0.5, align = \"center\", color = \"blue\")\n",
    "        plt.xticks(xs, keys, rotation = 90)\n",
    "        ax = plt.axes()\n",
    "        ax.xaxis.set_minor_locator(ticker.MultipleLocator(1))\n",
    "        plt.title('Character Distrobution')\n",
    "        plt.show()\n",
    "    \n",
    "    #properties\n",
    "    \n",
    "    #returns the average length of words within the entire ._contents\n",
    "    #avg = (word_len_1 + ... + word_len_N) / total_words\n",
    "    @property\n",
    "    def avg_word_length(self):\n",
    "        count_list = self._words()\n",
    "        word_len = 0\n",
    "        for i in count_list:\n",
    "            word_len += len(i)\n",
    "        avg_word_size = word_len / (self.word_count)\n",
    "        return round(avg_word_size, 2)\n",
    "    \n",
    "    #the total number of words in ._contents\n",
    "    @property\n",
    "    def word_count(self):\n",
    "        return len(self._words())\n",
    "    \n",
    "    #return the number of distinct words (individual types of words)\n",
    "    @property\n",
    "    def distinct_word_count(self):\n",
    "        all_words = self._words()\n",
    "        distinct_words = []\n",
    "        for l in all_words:\n",
    "            if l not in distinct_words:\n",
    "                distinct_words.append(l) \n",
    "        return len(distinct_words)\n",
    "    \n",
    "    #return list of words from ._contents only as capital letters\n",
    "    @property\n",
    "    def words(self):\n",
    "        return self._words(False)\n",
    "    \n",
    "    #calculate the value of words shared in ._content and text files positive and negative\n",
    "    #using (tally/self.word_count * 1000) rounded up\n",
    "    @property\n",
    "    def positivity(self):\n",
    "        tally = 0\n",
    "        pa = TextAnalyzer(\"positive.txt\")\n",
    "        na = TextAnalyzer(\"negative.txt\")\n",
    "        for i in (pa._words()):\n",
    "            if i in self._words():\n",
    "                tally = tally + 1\n",
    "        for j in (na._words()):\n",
    "            if j in self._words():\n",
    "                tally = tally - 1\n",
    "        return round( tally / self.word_count * 1000)"
   ]
  },
  {
   "cell_type": "markdown",
   "metadata": {},
   "source": [
    "## Tests\n",
    "When you have finished, you should run the tests below. If you get errors, you should do your very best to fix those errors before submitting the project.\n",
    "\n",
    "If you submit your project while still getting errors, you should explain that in your project submission email. The very first thing we will do to grade your project is run it through these tests. If it fails any of the tests, and you have not indicated that you are aware of specific test failures, we will stop grading and ask you to resubmit."
   ]
  },
  {
   "cell_type": "code",
   "execution_count": 3,
   "metadata": {
    "collapsed": false
   },
   "outputs": [
    {
     "name": "stderr",
     "output_type": "stream",
     "text": [
      "F.F...FF..F\n",
      "======================================================================\n",
      "FAIL: test_avg_word_length (__main__.TestTextAnalyzer)\n",
      "----------------------------------------------------------------------\n",
      "Traceback (most recent call last):\n",
      "  File \"<ipython-input-3-d8d728a44539>\", line 36, in test_avg_word_length\n",
      "    self.assertEqual(ta.avg_word_length, 4.04)\n",
      "AssertionError: 4.13 != 4.04\n",
      "\n",
      "======================================================================\n",
      "FAIL: test_common_words (__main__.TestTextAnalyzer)\n",
      "----------------------------------------------------------------------\n",
      "Traceback (most recent call last):\n",
      "  File \"<ipython-input-3-d8d728a44539>\", line 33, in test_common_words\n",
      "    self.assertEqual(liz[0],'ELIZABETH')\n",
      "AssertionError: 'THEY' != 'ELIZABETH'\n",
      "- THEY\n",
      "+ ELIZABETH\n",
      "\n",
      "\n",
      "======================================================================\n",
      "FAIL: test_distinct_word_count (__main__.TestTextAnalyzer)\n",
      "----------------------------------------------------------------------\n",
      "Traceback (most recent call last):\n",
      "  File \"<ipython-input-3-d8d728a44539>\", line 42, in test_distinct_word_count\n",
      "    self.assertEqual(ta.distinct_word_count, 39)\n",
      "AssertionError: 38 != 39\n",
      "\n",
      "======================================================================\n",
      "FAIL: test_positivity (__main__.TestTextAnalyzer)\n",
      "----------------------------------------------------------------------\n",
      "Traceback (most recent call last):\n",
      "  File \"<ipython-input-3-d8d728a44539>\", line 50, in test_positivity\n",
      "    self.assertEqual(positivity, -43)\n",
      "AssertionError: -22 != -43\n",
      "\n",
      "======================================================================\n",
      "FAIL: test_word_count (__main__.TestTextAnalyzer)\n",
      "----------------------------------------------------------------------\n",
      "Traceback (most recent call last):\n",
      "  File \"<ipython-input-3-d8d728a44539>\", line 39, in test_word_count\n",
      "    self.assertEqual(ta.word_count, 46)\n",
      "AssertionError: 45 != 46\n",
      "\n",
      "----------------------------------------------------------------------\n",
      "Ran 11 tests in 78.959s\n",
      "\n",
      "FAILED (failures=5)\n"
     ]
    },
    {
     "data": {
      "text/plain": [
       "<unittest.runner.TextTestResult run=11 errors=0 failures=5>"
      ]
     },
     "execution_count": 3,
     "metadata": {},
     "output_type": "execute_result"
    }
   ],
   "source": [
    "import unittest\n",
    "\n",
    "url = 'https://www.webucator.com/how-to/address-by-bill-clinton-1997.cfm'\n",
    "path = 'pride-and-prejudice.txt'\n",
    "text = '''The outlook wasn't brilliant for the Mudville Nine that day;\n",
    "the score stood four to two, with but one inning more to play.\n",
    "And then when Cooney died at first, and Barrows did the same,\n",
    "a sickly silence fell upon the patrons of the game.'''\n",
    "\n",
    "class TestTextAnalyzer(unittest.TestCase):\n",
    "    def test_discover_url(self):\n",
    "        ta = TextAnalyzer(url)\n",
    "        self.assertEqual(ta._src_type, 'url')\n",
    "    def test_discover_path(self):\n",
    "        ta = TextAnalyzer(path)\n",
    "        self.assertEqual(ta._src_type, 'path')\n",
    "    def test_discover_text(self):\n",
    "        ta = TextAnalyzer(text)\n",
    "        self.assertEqual(ta._src_type, 'text')\n",
    "    def test_set_content_to_tag(self):\n",
    "        ta = TextAnalyzer(url)\n",
    "        ta.set_content_to_tag('div','content-main')\n",
    "        self.assertEqual(ta._content[0:25], '\\n\\nAddress by Bill Clinton')\n",
    "    def test_reset_content(self):\n",
    "        ta = TextAnalyzer(url)\n",
    "        ta.set_content_to_tag('div','content-main')\n",
    "        ta.reset_content()\n",
    "        self.assertEqual(ta._content[0], '<')\n",
    "    def test_common_words(self):\n",
    "        ta = TextAnalyzer(path, src_type='path')\n",
    "        common_words = ta.common_words(minlen=4, maxlen=10)\n",
    "        liz = common_words[3]\n",
    "        self.assertEqual(liz[0],'ELIZABETH')\n",
    "    def test_avg_word_length(self):\n",
    "        ta = TextAnalyzer(text, src_type='text')\n",
    "        self.assertEqual(ta.avg_word_length, 4.04)\n",
    "    def test_word_count(self):\n",
    "        ta = TextAnalyzer(text, src_type='text')\n",
    "        self.assertEqual(ta.word_count, 46)\n",
    "    def test_distinct_word_count(self):\n",
    "        ta = TextAnalyzer(text, src_type='text')\n",
    "        self.assertEqual(ta.distinct_word_count, 39)\n",
    "    def test_char_distribution(self):\n",
    "        ta = TextAnalyzer(text, src_type='text')\n",
    "        char_dist = ta.char_distribution(letters_only=True)\n",
    "        self.assertEqual(char_dist[1][1], 20)\n",
    "    def test_positivity(self):\n",
    "        ta = TextAnalyzer(text, src_type='text')\n",
    "        positivity = ta.positivity\n",
    "        self.assertEqual(positivity, -43)\n",
    "        \n",
    "suite = unittest.TestLoader().loadTestsFromTestCase(TestTextAnalyzer)\n",
    "unittest.TextTestRunner().run(suite)"
   ]
  },
  {
   "cell_type": "markdown",
   "metadata": {},
   "source": [
    "## Plots\n",
    "You should also run the cell below to make sure your plot methods work. They should produce plots that look like the images found at:\n",
    "* <a href=\"character-distribution.png\" target=\"image_win\">character-distribution.png</a>\n",
    "* <a href=\"common-words.png\" target=\"image_win\">common-words.png</a>"
   ]
  },
  {
   "cell_type": "code",
   "execution_count": 4,
   "metadata": {
    "collapsed": false,
    "scrolled": true
   },
   "outputs": [
    {
     "name": "stderr",
     "output_type": "stream",
     "text": [
      "/Users/christinaduran/anaconda/lib/python3.6/site-packages/IPython/core/interactiveshell.py:2881: FutureWarning: \n",
      "mpl_style had been deprecated and will be removed in a future version.\n",
      "Use `matplotlib.pyplot.style.use` instead.\n",
      "\n",
      "  exec(code_obj, self.user_global_ns, self.user_ns)\n"
     ]
    },
    {
     "data": {
      "image/png": "[encoded data removed]",
      "text/plain": [
       "<matplotlib.figure.Figure at 0x1148eba20>"
      ]
     },
     "metadata": {},
     "output_type": "display_data"
    },
    {
     "data": {
      "image/png": "[encoded data removed]",
      "text/plain": [
       "<matplotlib.figure.Figure at 0x10e966cf8>"
      ]
     },
     "metadata": {},
     "output_type": "display_data"
    }
   ],
   "source": [
    "%matplotlib inline\n",
    "import numpy as np\n",
    "import pandas as pd\n",
    "import matplotlib.pyplot\n",
    "\n",
    "pd.set_option('display.max_columns', 10)\n",
    "pd.set_option('display.max_rows', 10)\n",
    "pd.options.display.mpl_style = 'default'\n",
    "\n",
    "ta = TextAnalyzer('pride-and-prejudice.txt', src_type='path')\n",
    "ta.plot_common_words(minlen=5)\n",
    "ta.plot_char_distribution(letters_only=True)"
   ]
  },
  {
   "cell_type": "markdown",
   "metadata": {},
   "source": [
    "## Exam: Using the TextAnalyzer"
   ]
  },
  {
   "cell_type": "markdown",
   "metadata": {},
   "source": [
    "### Question 1\n",
    "How many words are in the text of William Henry Harrison's 1841 inaugaral address?\n",
    "* The address can be found at https://www.webucator.com/how-to/william-henry-harrisons-inaugural-address.cfm.\n",
    "* Its contents are in a div tag with the id 'content-main'."
   ]
  },
  {
   "cell_type": "code",
   "execution_count": 81,
   "metadata": {
    "collapsed": false
   },
   "outputs": [
    {
     "name": "stdout",
     "output_type": "stream",
     "text": [
      "8505\n"
     ]
    }
   ],
   "source": [
    "#write code here\n",
    "url = 'https://www.webucator.com/how-to/william-henry-harrisons-inaugural-address.cfm'\n",
    "ta = TextAnalyzer(url)\n",
    "ta.set_content_to_tag('div','content-main')\n",
    "print(ta.word_count)"
   ]
  },
  {
   "cell_type": "markdown",
   "metadata": {},
   "source": [
    "### Question 2\n",
    "What is the least common letter in pride-and-prejudice.txt?"
   ]
  },
  {
   "cell_type": "code",
   "execution_count": 5,
   "metadata": {
    "collapsed": false
   },
   "outputs": [
    {
     "name": "stdout",
     "output_type": "stream",
     "text": [
      ":\n"
     ]
    }
   ],
   "source": [
    "#write code here\n",
    "ta = TextAnalyzer('pride-and-prejudice.txt', src_type='path')\n",
    "char_list = ta.char_distribution()\n",
    "least_common = (char_list[0])[1]\n",
    "least_common_char = (char_list[0])[0]\n",
    "for i in char_list:\n",
    "    if i[1] < least_common:\n",
    "        least_common = i[1]\n",
    "        least_common_char = i[0]\n",
    "print(least_common_char)"
   ]
  },
  {
   "cell_type": "markdown",
   "metadata": {},
   "source": [
    "### Question 3\n",
    "What is the most common 11-letter word in pride-and-prejudice.txt?  "
   ]
  },
  {
   "cell_type": "code",
   "execution_count": 6,
   "metadata": {
    "collapsed": false,
    "scrolled": true
   },
   "outputs": [
    {
     "name": "stdout",
     "output_type": "stream",
     "text": [
      "NETHERFIELD\n"
     ]
    }
   ],
   "source": [
    "#write code here\n",
    "ta = TextAnalyzer('pride-and-prejudice.txt', src_type='path')\n",
    "char_list = ta.common_words(minlen=11, maxlen=11, count = ta.word_count)\n",
    "common_word_appearence = (char_list[0])[1]\n",
    "common_word = (char_list[0])[0]\n",
    "for i in char_list:\n",
    "    if common_word_appearence < i[1]:\n",
    "        common_word_appearence = i[1]\n",
    "        common_word = i[0]\n",
    "print(common_word)"
   ]
  },
  {
   "cell_type": "markdown",
   "metadata": {},
   "source": [
    "### Question 4\n",
    "What is the average word length in pride-and-prejudice.txt?"
   ]
  },
  {
   "cell_type": "code",
   "execution_count": 24,
   "metadata": {
    "collapsed": false
   },
   "outputs": [
    {
     "name": "stdout",
     "output_type": "stream",
     "text": [
      "4.41\n"
     ]
    }
   ],
   "source": [
    "#write code here\n",
    "ta = TextAnalyzer('pride-and-prejudice.txt')\n",
    "print(ta.avg_word_length)"
   ]
  },
  {
   "cell_type": "markdown",
   "metadata": {},
   "source": [
    "### Question 5\n",
    "How many distinct words are there in pride-and-prejudice.txt?"
   ]
  },
  {
   "cell_type": "code",
   "execution_count": 3,
   "metadata": {
    "collapsed": false
   },
   "outputs": [
    {
     "name": "stdout",
     "output_type": "stream",
     "text": [
      "6804\n"
     ]
    }
   ],
   "source": [
    "#write code here\n",
    "ta = TextAnalyzer('pride-and-prejudice.txt')\n",
    "print(ta.distinct_word_count)"
   ]
  },
  {
   "cell_type": "markdown",
   "metadata": {},
   "source": [
    "### Question 6\n",
    "How many words, ignoring case, are used only once in pride-and-prejudice.txt?"
   ]
  },
  {
   "cell_type": "code",
   "execution_count": 7,
   "metadata": {
    "collapsed": false
   },
   "outputs": [
    {
     "name": "stdout",
     "output_type": "stream",
     "text": [
      "2868\n"
     ]
    }
   ],
   "source": [
    "#write code here\n",
    "ta = TextAnalyzer('pride-and-prejudice.txt')\n",
    "words = ta.common_words(count = ta.word_count)\n",
    "appear_once = []\n",
    "for i in words:\n",
    "    if i[1] == 1:\n",
    "        appear_once.append(i[0])\n",
    "print(len(appear_once))"
   ]
  },
  {
   "cell_type": "markdown",
   "metadata": {},
   "source": [
    "### Question 7\n",
    "How many words pride-and-prejudice.txt have less than five characters, at least one of which is a capital 'A'."
   ]
  },
  {
   "cell_type": "code",
   "execution_count": 8,
   "metadata": {
    "collapsed": false
   },
   "outputs": [
    {
     "name": "stdout",
     "output_type": "stream",
     "text": [
      "1\n"
     ]
    }
   ],
   "source": [
    "#write code here\n",
    "ta = TextAnalyzer('pride-and-prejudice.txt')\n",
    "words = ta.common_words(minlen=1, maxlen=4, count = ta.word_count, casesensitive = True)\n",
    "a_words = []\n",
    "for i in words:\n",
    "    if 'A' in i:\n",
    "        a_words.append(i)\n",
    "print(len(a_words))"
   ]
  },
  {
   "cell_type": "markdown",
   "metadata": {},
   "source": [
    "### Question 8\n",
    "A palindrome is a word spelled the same forwards and backwards, like BOB. How many distinct palindromes are there in pride-and-prejudice.txt.\n",
    "* Only include words with at least three letters."
   ]
  },
  {
   "cell_type": "code",
   "execution_count": 9,
   "metadata": {
    "collapsed": false
   },
   "outputs": [
    {
     "name": "stdout",
     "output_type": "stream",
     "text": [
      "0\n"
     ]
    }
   ],
   "source": [
    "#write code here\n",
    "ta = TextAnalyzer('pride-and-prejudice.txt')\n",
    "words = ta.common_words(minlen=1, maxlen=3, count = ta.word_count, casesensitive = True)\n",
    "palindromes = []\n",
    "for i in words:\n",
    "    if len(i) == 1:\n",
    "        palindromes.append(i)\n",
    "    elif len(i) == 3 and (i[0] == i[2]):\n",
    "        palendromes.append(i)\n",
    "print(len(palindromes))"
   ]
  },
  {
   "cell_type": "markdown",
   "metadata": {},
   "source": [
    "### Question 9\n",
    "What is the positivity rating of 'pride-and-prejudice.txt'"
   ]
  },
  {
   "cell_type": "code",
   "execution_count": 10,
   "metadata": {
    "collapsed": false
   },
   "outputs": [
    {
     "name": "stdout",
     "output_type": "stream",
     "text": [
      "-2\n"
     ]
    }
   ],
   "source": [
    "#write code here\n",
    "ta = TextAnalyzer('pride-and-prejudice.txt')\n",
    "print(ta.positivity)"
   ]
  },
  {
   "cell_type": "markdown",
   "metadata": {},
   "source": [
    "### Question 10\n",
    "Which of the following addresses has the lowest positivity rating?\n",
    "1. https://www.webucator.com/how-to/george-bushs-inaugural-address.cfm\n",
    "1. https://www.webucator.com/how-to/harry-s-trumans-inaugural-address.cfm\n",
    "1. https://www.webucator.com/how-to/william-mckinleys-inaugural-address.cfm\n",
    "1. https://www.webucator.com/how-to/zachary-taylors-inaugural-address.cfm"
   ]
  },
  {
   "cell_type": "code",
   "execution_count": 9,
   "metadata": {
    "collapsed": false
   },
   "outputs": [
    {
     "name": "stdout",
     "output_type": "stream",
     "text": [
      "6\n",
      "12\n",
      "10\n",
      "20\n"
     ]
    }
   ],
   "source": [
    "#write code here\n",
    "ta1 = TextAnalyzer('https://www.webucator.com/how-to/george-bushs-inaugural-address.cfm')\n",
    "print(ta1.positivity)\n",
    "ta2 = TextAnalyzer('https://www.webucator.com/how-to/harry-s-trumans-inaugural-address.cfm')\n",
    "print(ta2.positivity)\n",
    "ta3 = TextAnalyzer('https://www.webucator.com/how-to/william-mckinleys-inaugural-address.cfm')\n",
    "print(ta3.positivity)\n",
    "ta4 = TextAnalyzer('https://www.webucator.com/how-to/zachary-taylors-inaugural-address.cfm')\n",
    "print(ta4.positivity)"
   ]
  },
  {
   "cell_type": "code",
   "execution_count": null,
   "metadata": {
    "collapsed": true
   },
   "outputs": [],
   "source": []
  }
 ],
 "metadata": {
  "kernelspec": {
   "display_name": "Python 3",
   "language": "python",
   "name": "python3"
  },
  "language_info": {
   "codemirror_mode": {
    "name": "ipython",
    "version": 3
   },
   "file_extension": ".py",
   "mimetype": "text/x-python",
   "name": "python",
   "nbconvert_exporter": "python",
   "pygments_lexer": "ipython3",
   "version": "3.6.0"
  }
 },
 "nbformat": 4,
 "nbformat_minor": 0
}
